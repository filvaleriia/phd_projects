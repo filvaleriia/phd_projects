{
 "cells": [
  {
   "cell_type": "code",
   "execution_count": 1,
   "id": "c336276a",
   "metadata": {},
   "outputs": [],
   "source": [
    "import pandas as pd\n",
    "from rdkit import Chem\n",
    "from rdkit.Chem.Draw import IPythonConsole\n",
    "from rdkit.Chem import AllChem\n",
    "from rdkit.Chem.Scaffolds.MurckoScaffold import GetScaffoldForMol\n",
    "from rdkit.Chem.Scaffolds.MurckoScaffold import MurckoScaffoldSmiles\n",
    "from rdkit.Chem.Scaffolds.MurckoScaffold import MakeScaffoldGeneric\n",
    "from rdkit.DataManip.Metric import GetTanimotoDistMat\n",
    "from rdkit.DataManip.Metric import GetTanimotoSimMat\n",
    "from rdkit.Chem import DataStructs\n",
    "\n",
    "\n",
    "#descripts\n",
    "from rdkit.Chem import Lipinski\n",
    "from rdkit.Chem import rdMolDescriptors\n",
    "from rdkit.Chem import Descriptors\n",
    "\n",
    "from rdkit.Chem.Lipinski import NumAromaticHeterocycles\n",
    "from rdkit.Chem.Lipinski import NumAliphaticRings\n",
    "from rdkit.Chem.Lipinski import NumAromaticHeterocycles\n",
    "from rdkit.Chem.Lipinski import NumAromaticRings\n",
    "\n",
    "from scipy.spatial import distance\n",
    "from sklearn import manifold\n",
    "from sklearn import decomposition\n",
    "from sklearn import preprocessing\n",
    "from sklearn.decomposition import PCA\n",
    "\n",
    "# plots\n",
    "from matplotlib import pyplot\n",
    "import seaborn\n",
    "\n",
    "import itertools\n",
    "from itertools import combinations\n",
    "\n",
    "import numpy as np\n",
    "\n",
    "from sklearn.metrics import jaccard_score\n",
    "\n",
    "import os"
   ]
  },
  {
   "cell_type": "code",
   "execution_count": 1,
   "id": "8d3358e9",
   "metadata": {},
   "outputs": [],
   "source": [
    "    #dff['Tanimoto_sim'] = [1 for x in range(len(dff))]\n",
    "    #for x in range(len(dff)):\n",
    "    #    try:\n",
    "    #        dff['Tanimoto_sim'][x] = GetTanimotoSimMat([dff[0][x],dff[1][x]])[0]\n",
    "    #    except:\n",
    "    #        display(dff[:40])\n",
    "    ##        print(x)\n",
    "     #       print(dff[x])\n",
    "            #dff.drop([x])"
   ]
  },
  {
   "cell_type": "code",
   "execution_count": null,
   "id": "c6826a7b",
   "metadata": {},
   "outputs": [],
   "source": [
    "#list_ = pd.read_csv(f\"{root}{name}\", sep = ';')\n",
    "            #dff = pd.DataFrame(list_, columns = ['molregno', 'stand_type', \n",
    "            #                        'pchembl_value', 'stand_value',\n",
    "             #                       'canonical_smiles', 'stand_inchi',\n",
    "             #                      'chembl_id', 'tid','pref_name'])"
   ]
  },
  {
   "cell_type": "code",
   "execution_count": null,
   "id": "f9b55301",
   "metadata": {},
   "outputs": [],
   "source": [
    "                        #dff['mfp_murcko'].loc[x] = AllChem.GetMorganFingerprintAsBitVect\\\n",
    "                         #          (Chem.MolFromSmiles(MurckoScaffoldSmiles\\\n",
    "                         #         (dff['scaffolds_murcko'][x])), 3, nBits = 2048)"
   ]
  },
  {
   "cell_type": "code",
   "execution_count": null,
   "id": "cd212cd2",
   "metadata": {},
   "outputs": [],
   "source": [
    "    #prumery = pd.DataFrame(columns = ['pref_name','pocet_slouc', \n",
    "    #                                  'Tanim_sim_murcko', \n",
    "    #                                  'Tanim_dis_murcko',\n",
    "    #                                  'unik_scaf_murcko',\n",
    "    #                                  'Tanim_sim_generic', \n",
    "    #                                  'Tanim_dis_generic',\n",
    "    #                                  'unik_scaf_generic',\n",
    "    #                                  'Tanim_sim_csk', \n",
    "    #                                  'Tanim_dis_csk',\n",
    "    #                                   'unik_scaf_csk'])"
   ]
  },
  {
   "cell_type": "code",
   "execution_count": null,
   "id": "c2f4ffca",
   "metadata": {},
   "outputs": [],
   "source": [
    "list_uniq_chembl = pd.unique(pd.Series(nucler_all['chembl_id']))\n",
    "list_uniq_standd_type = []\n",
    "for x in list_uniq_chembl:\n",
    "    a = nucler_all[nucler_all['chembl_id']==x]\n",
    "    #print(a['stand_type'].tolist())\n",
    "    b = unique(a['stand_type'].tolist())\n",
    "    b = str(b).replace(\"[\", \"\")\n",
    "    b = str(b).replace(\"]\", \"\")\n",
    "    b = str(b).replace(\"'\", \"\")\n",
    "    b = str(b).replace(\", \", \"+\")\n",
    "    \n",
    "    if b not in list_uniq_standd_type:\n",
    "        list_uniq_standd_type.append(b)\n",
    "    \n",
    "list_uniq_standd_type.sort(key=len)\n",
    "display(list_uniq_standd_type)\n",
    "statistic = pd.DataFrame(columns = list_uniq_standd_type)\n",
    "statistic.loc[len(statistic)] = 0\n",
    "statistic"
   ]
  },
  {
   "cell_type": "code",
   "execution_count": 2,
   "id": "ffe6250f",
   "metadata": {},
   "outputs": [
    {
     "data": {
      "text/plain": [
       "1"
      ]
     },
     "execution_count": 2,
     "metadata": {},
     "output_type": "execute_result"
    }
   ],
   "source": [
    "m = Chem.MolFromSmiles('CC1=C(/C=C/C(C)=C/C=C/C(C)=C/C(=O)O)C(C)(C)CCC1')\n",
    "\n",
    "NumAromaticHeterocycles(m)\n",
    "NumAliphaticRings(m)\n",
    "#NumAromaticHeterocycles(m)\n",
    "#NumAromaticRings(m)"
   ]
  },
  {
   "cell_type": "code",
   "execution_count": null,
   "id": "8cf336f5",
   "metadata": {},
   "outputs": [],
   "source": []
  },
  {
   "cell_type": "code",
   "execution_count": 3,
   "id": "215d579c",
   "metadata": {},
   "outputs": [
    {
     "data": {
      "text/plain": [
       "<rdkit.DataStructs.cDataStructs.ExplicitBitVect at 0x7f9cd861dd90>"
      ]
     },
     "execution_count": 3,
     "metadata": {},
     "output_type": "execute_result"
    }
   ],
   "source": [
    "AllChem.GetMorganFingerprintAsBitVect\\\n",
    "             (Chem.MolFromSmiles(('O=C(O)c1cc(S(F)(F)(F)(F)F)cc(NS(=O)(=O)c2cc(Br)ccc2O)c1O')), 3, nBits = 2048)"
   ]
  },
  {
   "cell_type": "code",
   "execution_count": null,
   "id": "483734a3",
   "metadata": {},
   "outputs": [],
   "source": []
  },
  {
   "cell_type": "code",
   "execution_count": 4,
   "id": "dba84b9a",
   "metadata": {},
   "outputs": [
    {
     "data": {
      "image/png": "[encoded data removed]",
      "text/plain": [
       "<rdkit.Chem.rdchem.Mol at 0x7f9cd861de00>"
      ]
     },
     "execution_count": 4,
     "metadata": {},
     "output_type": "execute_result"
    }
   ],
   "source": [
    "a = 'COP(O)(O)(N[C@@H](C(=O)N1CCC[C@H]1C(=O)NCc1ccc(C(=N)N)cc1)C(c1ccccc1)c1ccccc1)OC'\n",
    "\n",
    "Chem.MolFromSmiles(a)"
   ]
  },
  {
   "cell_type": "code",
   "execution_count": 14,
   "id": "e39e1f4b",
   "metadata": {},
   "outputs": [
    {
     "name": "stderr",
     "output_type": "stream",
     "text": [
      "[11:51:14] Explicit valence for atom # 2 C, 5, is greater than permitted\n"
     ]
    },
    {
     "ename": "AtomValenceException",
     "evalue": "Explicit valence for atom # 2 C, 5, is greater than permitted",
     "output_type": "error",
     "traceback": [
      "\u001b[0;31m---------------------------------------------------------------------------\u001b[0m",
      "\u001b[0;31mAtomValenceException\u001b[0m                      Traceback (most recent call last)",
      "Cell \u001b[0;32mIn [14], line 1\u001b[0m\n\u001b[0;32m----> 1\u001b[0m Chem\u001b[38;5;241m.\u001b[39mMolToSmiles(\u001b[43mMakeScaffoldGeneric\u001b[49m\u001b[43m\\\u001b[49m\n\u001b[1;32m      2\u001b[0m \u001b[43m                        \u001b[49m\u001b[43m(\u001b[49m\u001b[43mChem\u001b[49m\u001b[38;5;241;43m.\u001b[39;49m\u001b[43mMolFromSmiles\u001b[49m\u001b[43m\\\u001b[49m\n\u001b[1;32m      3\u001b[0m \u001b[43m                         \u001b[49m\u001b[43m(\u001b[49m\u001b[43ma\u001b[49m\u001b[43m)\u001b[49m\u001b[43m)\u001b[49m)\n",
      "File \u001b[0;32m~/anaconda3/envs/rdkit-env/lib/python3.10/site-packages/rdkit/Chem/Scaffolds/MurckoScaffold.py:47\u001b[0m, in \u001b[0;36mMakeScaffoldGeneric\u001b[0;34m(mol)\u001b[0m\n\u001b[1;32m     45\u001b[0m   bond\u001b[38;5;241m.\u001b[39mSetBondType(Chem\u001b[38;5;241m.\u001b[39mBondType\u001b[38;5;241m.\u001b[39mSINGLE)\n\u001b[1;32m     46\u001b[0m   bond\u001b[38;5;241m.\u001b[39mSetIsAromatic(\u001b[38;5;28;01mFalse\u001b[39;00m)\n\u001b[0;32m---> 47\u001b[0m \u001b[38;5;28;01mreturn\u001b[39;00m \u001b[43mChem\u001b[49m\u001b[38;5;241;43m.\u001b[39;49m\u001b[43mRemoveHs\u001b[49m\u001b[43m(\u001b[49m\u001b[43mres\u001b[49m\u001b[43m)\u001b[49m\n",
      "\u001b[0;31mAtomValenceException\u001b[0m: Explicit valence for atom # 2 C, 5, is greater than permitted"
     ]
    }
   ],
   "source": [
    "Chem.MolToSmiles(MakeScaffoldGeneric\\\n",
    "                        (Chem.MolFromSmiles\\\n",
    "                         (a)))"
   ]
  },
  {
   "cell_type": "code",
   "execution_count": 4,
   "id": "50db6bb9",
   "metadata": {},
   "outputs": [],
   "source": [
    "from rdkit.Chem.SaltRemover import SaltRemover"
   ]
  },
  {
   "cell_type": "code",
   "execution_count": 11,
   "id": "024acc3a",
   "metadata": {},
   "outputs": [
    {
     "data": {
      "text/plain": [
       "<rdkit.Chem.SaltRemover.SaltRemover at 0x7f8926e702b0>"
      ]
     },
     "execution_count": 11,
     "metadata": {},
     "output_type": "execute_result"
    }
   ],
   "source": [
    "remover = SaltRemover()\n",
    "remover\n"
   ]
  },
  {
   "cell_type": "code",
   "execution_count": 12,
   "id": "9a93e7c0",
   "metadata": {},
   "outputs": [
    {
     "data": {
      "image/png": "[encoded data removed]",
      "text/plain": [
       "<rdkit.Chem.rdchem.Mol at 0x7f8926bd27a0>"
      ]
     },
     "execution_count": 12,
     "metadata": {},
     "output_type": "execute_result"
    }
   ],
   "source": [
    "res = remover.StripMol(Chem.MolFromSmiles(a))\n",
    "res"
   ]
  },
  {
   "cell_type": "code",
   "execution_count": null,
   "id": "75e8b6d7",
   "metadata": {},
   "outputs": [],
   "source": []
  },
  {
   "cell_type": "code",
   "execution_count": null,
   "id": "92edf9b5",
   "metadata": {},
   "outputs": [],
   "source": []
  },
  {
   "cell_type": "code",
   "execution_count": null,
   "id": "aad136af",
   "metadata": {},
   "outputs": [],
   "source": [
    "nucler_glucocor.groupby(['scaffolds_csk','chembl_id']).sum()"
   ]
  },
  {
   "cell_type": "code",
   "execution_count": null,
   "id": "8eee5961",
   "metadata": {},
   "outputs": [],
   "source": [
    "def rozdeleni_na_shluky_pomoci_TSNE(dff):\n",
    "    df = dff.drop_duplicates(subset='scaffolds_csk', keep=\"first\")\n",
    "    df.reset_index(level=0, inplace=True)\n",
    "    df = df.drop(columns = ['index'])\n",
    "    \n",
    "    a = GetTanimotoSimMat(list(df['tanimoto_by_scaffolds']))\n",
    "    dist_mat_ = distance.squareform(a)\n",
    "    dist_mat_.shape\n",
    "    \n",
    "    clf = manifold.TSNE(n_components=2, metric=\"precomputed\")\n",
    "    X_tsne = clf.fit_transform(dist_mat_)\n",
    "    df = df.join(pd.DataFrame(X_tsne, columns=[\"tsne_x\", \"tsne_y\"]))\n",
    "    \n",
    "    reduced_data = df[[\"tsne_x\", \"tsne_y\"]]\n",
    "    n_clusters = 5\n",
    "    for x in range(5):\n",
    "        kmeans = KMeans(init=\"k-means++\", n_clusters=n_clusters, n_init=4)\n",
    "        kmeans.fit(reduced_data)\n",
    "        centroids = kmeans.cluster_centers_\n",
    "        # Put the result into a color plot\n",
    "        name = 'cluster_' + f\"{x}\"\n",
    "        df[name] = kmeans.labels_\n",
    "    return df\n"
   ]
  },
  {
   "cell_type": "code",
   "execution_count": null,
   "id": "842056ea",
   "metadata": {},
   "outputs": [],
   "source": [
    "def rozdeleni_na_shluky_pomoci_TSNE(dff):\n",
    "    df = dff.drop_duplicates(subset='scaffolds_csk', keep=\"first\")\n",
    "    df.reset_index(level=0, inplace=True)\n",
    "    df = df.drop(columns = ['index'])\n",
    "    \n",
    "    a = GetTanimotoSimMat(list(df['mfp']))\n",
    "    dist_mat_ = distance.squareform(a)\n",
    "    dist_mat_.shape\n",
    "    \n",
    "    clf = manifold.TSNE(n_components=2, metric=\"precomputed\")\n",
    "    X_tsne = clf.fit_transform(dist_mat_)\n",
    "    df = df.join(pd.DataFrame(X_tsne, columns=[\"tsne_x\", \"tsne_y\"]))\n",
    "    \n",
    "    reduced_data = df[[\"tsne_x\", \"tsne_y\"]]\n",
    "    n_clusters = 5\n",
    "    for x in range(5):\n",
    "        kmeans = KMeans(init=\"k-means++\", n_clusters=n_clusters, n_init=4)\n",
    "        kmeans.fit(reduced_data)\n",
    "        centroids = kmeans.cluster_centers_\n",
    "        # Put the result into a color plot\n",
    "        name = 'cluster_' + f\"{x}\"\n",
    "        df[name] = kmeans.labels_\n",
    "    return df\n"
   ]
  },
  {
   "cell_type": "code",
   "execution_count": null,
   "id": "f6bf2ed9",
   "metadata": {},
   "outputs": [],
   "source": [
    "def rozdeleni_na_shluky_(dff):\n",
    "    df = dff.drop_duplicates(subset='scaffolds_csk', keep=\"first\")\n",
    "    df.reset_index(level=0, inplace=True)\n",
    "    df = df.drop(columns = ['index'])\n",
    "    \n",
    "    a = GetTanimotoSimMat(list(df['mfp']))\n",
    "    dist_mat_ = distance.squareform(a)\n",
    "    \n",
    "    n_clusters = 5\n",
    "    for x in range(5):\n",
    "        kmeans = KMeans(init=\"k-means++\", n_clusters=n_clusters)\n",
    "        kmeans.fit(dist_mat_)\n",
    "        centroids = kmeans.cluster_centers_\n",
    "        name = 'cluster_' + f\"{x}\"\n",
    "        df[name] = kmeans.labels_\n",
    "    return df\n"
   ]
  }
 ],
 "metadata": {
  "kernelspec": {
   "display_name": "Python 3 (ipykernel)",
   "language": "python",
   "name": "python3"
  },
  "language_info": {
   "codemirror_mode": {
    "name": "ipython",
    "version": 3
   },
   "file_extension": ".py",
   "mimetype": "text/x-python",
   "name": "python",
   "nbconvert_exporter": "python",
   "pygments_lexer": "ipython3",
   "version": "3.10.6"
  }
 },
 "nbformat": 4,
 "nbformat_minor": 5
}
